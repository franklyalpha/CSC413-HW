{
  "nbformat": 4,
  "nbformat_minor": 0,
  "metadata": {
    "colab": {
      "name": "“a4_dqn.ipynb”的副本",
      "provenance": [],
      "collapsed_sections": []
    },
    "kernelspec": {
      "name": "python3",
      "display_name": "Python 3"
    },
    "accelerator": "GPU"
  },
  "cells": [
    {
      "cell_type": "markdown",
      "metadata": {
        "id": "V3szwJAdaoQa"
      },
      "source": [
        "## Enable rendering OpenAI Gym environments from CoLab\n",
        "\n",
        "In this assignemnt, We will use [OpenAI Gym](https://gym.openai.com/) for rendering game envionment for our agent to play and learn. It is possible and important to visualize the game your agent is playing, even on Colab. This section imports the necessary package and functions needed to generate a video in Colab. The video processing steps credit to [here](https://colab.research.google.com/drive/1flu31ulJlgiRL1dnN2ir8wGh9p7Zij2t)."
      ]
    },
    {
      "cell_type": "code",
      "metadata": {
        "id": "M9fFfA-gb8oC",
        "colab": {
          "base_uri": "https://localhost:8080/"
        },
        "outputId": "eeaa268c-be39-428e-ef27-4b551b374467"
      },
      "source": [
        "# You will need to run this block twice to make it effective\n",
        "!apt-get update > /dev/null 2>&1\n",
        "!apt-get install cmake > /dev/null 2>&1\n",
        "!pip install --upgrade setuptools 2>&1\n",
        "!pip install ez_setup > /dev/null 2>&1\n",
        "!pip install gym[atari] > /dev/null 2>&1\n",
        "!pip install box2d-py > /dev/null 2>&1\n",
        "!pip install gym[Box_2D] > /dev/null 2>&1"
      ],
      "execution_count": null,
      "outputs": [
        {
          "output_type": "stream",
          "name": "stdout",
          "text": [
            "Requirement already satisfied: setuptools in /usr/local/lib/python3.7/dist-packages (62.0.0)\n"
          ]
        }
      ]
    },
    {
      "cell_type": "code",
      "source": [
        "!pip install gym pyvirtualdisplay > /dev/null 2>&1\n",
        "!apt-get install -y xvfb python-opengl ffmpeg > /dev/null 2>&1"
      ],
      "metadata": {
        "id": "NE1QQOVX27dp"
      },
      "execution_count": null,
      "outputs": []
    },
    {
      "cell_type": "markdown",
      "metadata": {
        "id": "QfTPg6uZckCm"
      },
      "source": [
        "Import openAI gym and define the functions used to show the video."
      ]
    },
    {
      "cell_type": "code",
      "metadata": {
        "id": "JLl9cs6ncAf0"
      },
      "source": [
        "import gym\n",
        "from gym.wrappers import Monitor\n",
        "import glob\n",
        "import io\n",
        "import base64\n",
        "from IPython.display import HTML\n",
        "from pyvirtualdisplay import Display\n",
        "from IPython import display as ipythondisplay\n",
        "\n",
        "display = Display(visible=0, size=(1400, 900))\n",
        "display.start()\n",
        "\n",
        "\"\"\"\n",
        "Utility functions to enable video recording of gym environment \n",
        "and displaying it.\n",
        "To enable video, just do \"env = wrap_env(env)\"\"\n",
        "\"\"\"\n",
        "\n",
        "def show_video():\n",
        "  mp4list = glob.glob('video/*.mp4')\n",
        "  if len(mp4list) > 0:\n",
        "    mp4 = mp4list[0]\n",
        "    video = io.open(mp4, 'r+b').read()\n",
        "    encoded = base64.b64encode(video)\n",
        "    ipythondisplay.display(HTML(data='''<video alt=\"test\" autoplay \n",
        "                loop controls style=\"height: 400px;\">\n",
        "                <source src=\"data:video/mp4;base64,{0}\" type=\"video/mp4\" />\n",
        "             </video>'''.format(encoded.decode('ascii'))))\n",
        "  else: \n",
        "    print(\"Could not find video\")\n",
        "    \n",
        "\n",
        "def wrap_env(env):\n",
        "  env = Monitor(env, './video', force=True)\n",
        "  return env"
      ],
      "execution_count": null,
      "outputs": []
    },
    {
      "cell_type": "markdown",
      "metadata": {
        "id": "UHkrflTWakKd"
      },
      "source": [
        "Import other packages:\n",
        "\n",
        "We will use Pytorch for building and learning our DQN network."
      ]
    },
    {
      "cell_type": "code",
      "metadata": {
        "id": "9KvZYSl6RrzD"
      },
      "source": [
        "import torch\n",
        "from torch import nn\n",
        "import copy\n",
        "from collections import deque\n",
        "import random\n",
        "from tqdm import tqdm\n",
        "import matplotlib.pyplot as plt\n",
        "\n",
        "random.seed(42)"
      ],
      "execution_count": null,
      "outputs": []
    },
    {
      "cell_type": "markdown",
      "metadata": {
        "id": "zrLGCk-3ditk"
      },
      "source": [
        "## Run the game with random agent."
      ]
    },
    {
      "cell_type": "code",
      "metadata": {
        "id": "ZMcGALcWeWfh",
        "colab": {
          "base_uri": "https://localhost:8080/",
          "height": 455
        },
        "outputId": "3f4d1856-89ae-4d5d-db40-852fbbe44c49"
      },
      "source": [
        "from torch import randint\n",
        "from time import sleep\n",
        "\n",
        "env = wrap_env(gym.make('CartPole-v1'))\n",
        "reward_arr = []\n",
        "episode_count = 20\n",
        "for i in tqdm(range(episode_count)):\n",
        "    obs, done, rew = env.reset(), False, 0\n",
        "    env.render()\n",
        "    while not done:\n",
        "        A = randint(0, env.action_space.n, (1,))\n",
        "        obs, reward, done, info = env.step(A.item())\n",
        "        rew += reward\n",
        "        sleep(0.01)\n",
        "    reward_arr.append(rew)\n",
        "print(\"average reward per episode :\", sum(reward_arr) / len(reward_arr))\n",
        "env.close()\n",
        "show_video()"
      ],
      "execution_count": null,
      "outputs": [
        {
          "output_type": "stream",
          "name": "stderr",
          "text": [
            "100%|██████████| 20/20 [00:07<00:00,  2.63it/s]"
          ]
        },
        {
          "output_type": "stream",
          "name": "stdout",
          "text": [
            "average reward per episode : 26.65\n"
          ]
        },
        {
          "output_type": "stream",
          "name": "stderr",
          "text": [
            "\n"
          ]
        },
        {
          "output_type": "display_data",
          "data": {
            "text/plain": [
              "<IPython.core.display.HTML object>"
            ],
            "text/html": [
              "<video alt=\"test\" autoplay \n",
              "                loop controls style=\"height: 400px;\">\n",
              "                <source src=\"data:video/mp4;base64,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\" type=\"video/mp4\" />\n",
              "             </video>"
            ]
          },
          "metadata": {}
        }
      ]
    },
    {
      "cell_type": "markdown",
      "metadata": {
        "id": "Ope0zHAjfXQh"
      },
      "source": [
        "The episode ends when the pole is more than 15 degrees from vertical, or the cart moves more than 2.4 units from the center. The video is short (< 1s) because the pole loses balance immediately. \n",
        "\n",
        "You can see that a random agent is having trouble balancing the CartPole, just like you. However, a difficult game for human may be very simple to a computer. Let's see how we can use DQN to train a agent. "
      ]
    },
    {
      "cell_type": "markdown",
      "metadata": {
        "id": "OjP_2jn3SFgv"
      },
      "source": [
        "## Experience Replay\n",
        "\n",
        "The technique of experience replay was first proposed in to resolve temporal correlation in the input data by mixing recent experiences as well past experiences, essentially forcing the input to become independent and identically distributed (i.i.d.). It has been shown that this greatly stabilizes\n",
        "and improves the DQN training procedure."
      ]
    },
    {
      "cell_type": "code",
      "metadata": {
        "id": "SoxW1Jlnk8mS"
      },
      "source": [
        "class ExperienceReplay(object):\n",
        "      def __init__(self, length):\n",
        "        self.experience_replay = deque(maxlen=length)\n",
        "\n",
        "      def collect(self, experience):\n",
        "        self.experience_replay.append(experience)\n",
        "        return\n",
        "\n",
        "      def sample_from_experience(self, sample_size):\n",
        "        if len(self.experience_replay) < sample_size:\n",
        "            sample_size = len(self.experience_replay)\n",
        "        sample = random.sample(self.experience_replay, sample_size)\n",
        "        state = torch.tensor([exp[0] for exp in sample]).float()\n",
        "        action = torch.tensor([exp[1] for exp in sample]).float()\n",
        "        reward = torch.tensor([exp[2] for exp in sample]).float()\n",
        "        next_state = torch.tensor([exp[3] for exp in sample]).float()\n",
        "        return state, action, reward, next_state\n"
      ],
      "execution_count": null,
      "outputs": []
    },
    {
      "cell_type": "markdown",
      "metadata": {
        "id": "CgXwmV2im4Sx"
      },
      "source": [
        "## Build our DQN Network\n",
        "\n",
        "We will use a simple multi-layer neural network to learn the optimal actions. We will use Adam Optimizor and MSE loss for training. **Notice that the loss function and gamma is given to you in the class attribute.** "
      ]
    },
    {
      "cell_type": "code",
      "metadata": {
        "id": "Wmd1pfuRm7MQ"
      },
      "source": [
        "class DQN_Network:\n",
        "\n",
        "    def __init__(self, layer_size_list, lr, seed=1423):\n",
        "        torch.manual_seed(seed)\n",
        "        self.policy_net = self.create_network(layer_size_list)\n",
        "        self.target_net = copy.deepcopy(self.policy_net)\n",
        "  \n",
        "        self.loss_fn = torch.nn.MSELoss() # the loss function\n",
        "        self.optimizer = torch.optim.Adam(self.policy_net.parameters(), lr=lr)\n",
        "\n",
        "        self.step = 0\n",
        "        self.gamma = torch.tensor(0.95).float()\n",
        "        return\n",
        "\n",
        "    def create_network(self, layer_size_list):\n",
        "        assert len(layer_size_list) > 1\n",
        "\n",
        "        layers = []\n",
        "        for i in range(len(layer_size_list) - 1):\n",
        "            linear = nn.Linear(layer_size_list[i], layer_size_list[i + 1])\n",
        "\n",
        "            if i < len(layer_size_list) - 2:\n",
        "              activation = nn.Tanh()\n",
        "            else:\n",
        "              activation = nn.Identity()\n",
        "\n",
        "            layers += (linear, activation)\n",
        "        return nn.Sequential(*layers)\n",
        "\n",
        "    def load_pretrained_model(self, model_path):\n",
        "        self.policy_net.load_state_dict(torch.load(model_path))\n",
        "\n",
        "    def save_trained_model(self, model_path=\"cartpole-dqn.pth\"):\n",
        "        torch.save(self.policy_net.state_dict(), model_path)\n"
      ],
      "execution_count": null,
      "outputs": []
    },
    {
      "cell_type": "markdown",
      "metadata": {
        "id": "xKVV16YctASm"
      },
      "source": [
        "## **[Your task]**: complete the function that chooses the next action\n",
        "\n",
        "Choose next action based on **$\\epsilon$-greedy**:\n",
        "\n",
        "\\begin{align}\\text{where} \\quad \\mathcal{a_{t+1}} = \\begin{cases}\n",
        "     \\text{argmax}_{a}Q(a, s)  & \\text{with probability }: 1 - \\epsilon, \\text{exploitation}\\\\\n",
        "     \\text{Uniform}\\{a_{1},...,a_{n}\\} & \\text{with probability}:   \\epsilon, \\text{exploration} \\\\\n",
        "   \\end{cases}\\end{align}"
      ]
    },
    {
      "cell_type": "code",
      "metadata": {
        "id": "iE0gVweYs8xW"
      },
      "source": [
        "def get_action(model, state, action_space_len, epsilon):\n",
        "    # We do not require gradient at this point, because this function will be used either\n",
        "    # during experience collection or during inference\n",
        "\n",
        "    with torch.no_grad():\n",
        "      Qp = model.policy_net(torch.from_numpy(state).float())\n",
        "\n",
        "    ## TODO: select and return action based on epsilon-greedy\n",
        "    Q, A = torch.max(Qp, axis=0)\n",
        "    ## TODO:\n",
        "    if random.random() > epsilon:\n",
        "      return A\n",
        "    else:\n",
        "      return torch.randint(0, action_space_len, (1,))\n",
        "    "
      ],
      "execution_count": null,
      "outputs": []
    },
    {
      "cell_type": "markdown",
      "metadata": {
        "id": "iF9a5-IbazjQ"
      },
      "source": [
        "### **[Your task]**: complete the function that train the network for one step\n",
        "\n",
        "Here, you can find an ``train`` function that performs a\n",
        "single step of the optimization. \n",
        "\n",
        "For our training update rule, the loss you are trying to minimize is:\n",
        "\n",
        "\\begin{align}\\text{loss} = Q(s, a) - (r + \\gamma \\max_a Q(s', a))\\end{align}"
      ]
    },
    {
      "cell_type": "code",
      "metadata": {
        "id": "mtx4FAiab0Hp"
      },
      "source": [
        "def train(model, batch_size):\n",
        "    state, action, reward, next_state = memory.sample_from_experience(sample_size=batch_size)\n",
        "\n",
        "    # TODO: predict expected return of current state using main network\n",
        "    qp = model.policy_net(state)\n",
        "    pred_return, _ = torch.max(qp, axis=1)\n",
        "    # TODO: get target return using target network\n",
        "    qp_next = model.target_net(next_state)\n",
        "    q_next, _ = torch.max(qp_next, axis=1)\n",
        "    target_return = reward + model.gamma * q_next\n",
        "\n",
        "    # TODO: compute the loss\n",
        "    loss = model.loss_fn(pred_return, target_return)\n",
        "    model.optimizer.zero_grad()\n",
        "    loss.backward(retain_graph=True)\n",
        "    model.optimizer.step()\n",
        "\n",
        "    model.step += 1\n",
        "    if model.step % 5 == 0:\n",
        "        model.target_net.load_state_dict(model.policy_net.state_dict())\n",
        "\n",
        "    return loss.item()"
      ],
      "execution_count": null,
      "outputs": []
    },
    {
      "cell_type": "markdown",
      "metadata": {
        "id": "uskoe87Uz-Jg"
      },
      "source": [
        "### **[Your task]**: Finish the training loop\n",
        "\n",
        "In this part, you can play around with ```exp_replay_size```, ```episode```, ```epsilon``` and the \"episodo decay\" logic to train your model. **If you have done correctly, you will observe that the training time for the latter episodes is longer than the early episodes. This is because your agent is getting better and better at playing the game and thus each episode takes longer**"
      ]
    },
    {
      "cell_type": "code",
      "metadata": {
        "id": "3NfNnyD6SPpN",
        "colab": {
          "base_uri": "https://localhost:8080/"
        },
        "outputId": "6400befe-5c31-4aed-c6ac-e5ceaa13f2af"
      },
      "source": [
        "# Create the model\n",
        "env = gym.make('CartPole-v0')\n",
        "input_dim = env.observation_space.shape[0]\n",
        "output_dim = env.action_space.n\n",
        "agent = DQN_Network(layer_size_list=[input_dim, 64, output_dim], lr=1e-3)\n",
        "\n",
        "# Main training loop\n",
        "losses_list, reward_list, episode_len_list, epsilon_list = [], [], [], []\n",
        "\n",
        "# TODO: try different values, it normally takes more than 6k episodes to train\n",
        "exp_replay_size = 256\n",
        "memory = ExperienceReplay(exp_replay_size)\n",
        "episodes = 12800\n",
        "epsilon = 1 # episilon start from 1 and decay gradually. \n",
        "\n",
        "# initiliaze experiance replay\n",
        "index = 0\n",
        "for i in range(exp_replay_size):\n",
        "    obs = env.reset()\n",
        "    done = False\n",
        "    while not done:\n",
        "        A = get_action(agent, obs, env.action_space.n, epsilon=1)\n",
        "        obs_next, reward, done, _ = env.step(A.item())\n",
        "        memory.collect([obs, A.item(), reward, obs_next])\n",
        "        obs = obs_next\n",
        "        index += 1\n",
        "        if index > exp_replay_size:\n",
        "            break\n",
        "\n",
        "index = 128\n",
        "for i in tqdm(range(episodes)):\n",
        "    obs, done, losses, ep_len, rew = env.reset(), False, 0, 0, 0\n",
        "    while not done:\n",
        "        ep_len += 1\n",
        "        A = get_action(agent, obs, env.action_space.n, epsilon)\n",
        "        obs_next, reward, done, _ = env.step(A.item())\n",
        "        memory.collect([obs, A.item(), reward, obs_next])\n",
        "\n",
        "        obs = obs_next\n",
        "        rew += reward\n",
        "        index += 1\n",
        "\n",
        "        if index > 128:\n",
        "            index = 0\n",
        "            for j in range(4):\n",
        "                loss = train(agent, batch_size=16)\n",
        "                losses += loss\n",
        "    \n",
        "    # TODO: add epsilon decay rule here! \n",
        "    if epsilon > 0.05:\n",
        "        epsilon = epsilon * 0.99\n",
        "\n",
        "    losses_list.append(losses / ep_len), reward_list.append(rew)\n",
        "    episode_len_list.append(ep_len), epsilon_list.append(epsilon)\n",
        "\n",
        "print(\"Saving trained model\")\n",
        "agent.save_trained_model(\"cartpole-dqn.pth\")"
      ],
      "execution_count": null,
      "outputs": [
        {
          "output_type": "stream",
          "name": "stderr",
          "text": [
            "100%|██████████| 12800/12800 [01:07<00:00, 190.87it/s]"
          ]
        },
        {
          "output_type": "stream",
          "name": "stdout",
          "text": [
            "Saving trained model\n"
          ]
        },
        {
          "output_type": "stream",
          "name": "stderr",
          "text": [
            "\n"
          ]
        }
      ]
    },
    {
      "cell_type": "markdown",
      "metadata": {
        "id": "CCow7jNXf5YT"
      },
      "source": [
        "## Last Step: evaluate your trained model! **Make sure to include your visualizations (plot+video) in the notebook for your submission!**\n",
        "\n",
        "First we can plot the reward vs. episode. **If you have done correctly, you should see the reward can stabilize at 200 in later episodes**\\"
      ]
    },
    {
      "cell_type": "code",
      "metadata": {
        "id": "-Hy_FP7yeXA4",
        "colab": {
          "base_uri": "https://localhost:8080/",
          "height": 295
        },
        "outputId": "f239ca81-b8ff-4327-a8ea-7aadd89bf4b2"
      },
      "source": [
        "def plot_reward(r):\n",
        "    plt.figure(2)\n",
        "    plt.clf()\n",
        "    plt.title('Result')\n",
        "    plt.xlabel('Episode')\n",
        "    plt.ylabel('Reward')\n",
        "    plt.plot(r)\n",
        "\n",
        "plot_reward(reward_list)"
      ],
      "execution_count": null,
      "outputs": [
        {
          "output_type": "display_data",
          "data": {
            "text/plain": [
              "<Figure size 432x288 with 1 Axes>"
            ],
            "image/png": "[encoded data removed]"
          },
          "metadata": {
            "needs_background": "light"
          }
        }
      ]
    },
    {
      "cell_type": "markdown",
      "source": [
        "Next let check out how well your agent plays the game. **If you have done correctly, you should see a relatively longer video (> 3~4s) with a self-balancing pole.**"
      ],
      "metadata": {
        "id": "EixOpGakoyi4"
      }
    },
    {
      "cell_type": "code",
      "metadata": {
        "id": "EMEivKldTGVG",
        "colab": {
          "base_uri": "https://localhost:8080/"
        },
        "outputId": "b3f174ef-0545-4701-f563-06ab2dce499d"
      },
      "source": [
        "env = wrap_env(gym.make('CartPole-v1'))\n",
        "\n",
        "input_dim = env.observation_space.shape[0]\n",
        "output_dim = env.action_space.n\n",
        "model_validate = DQN_Network(layer_size_list=[input_dim, 64, output_dim], lr=1e-3)\n",
        "model_validate.load_pretrained_model(\"cartpole-dqn.pth\")\n",
        "\n",
        "reward_arr = []\n",
        "for i in tqdm(range(200)):\n",
        "    obs, done, rew = env.reset(), False, 0\n",
        "    env.render()\n",
        "    while not done:\n",
        "        A = get_action(model_validate, obs, env.action_space.n, epsilon=0)\n",
        "        obs, reward, done, info = env.step(A.item())\n",
        "        rew += reward\n",
        "        # sleep(0.01)\n",
        "\n",
        "    reward_arr.append(rew)\n",
        "print(\"average reward per episode :\", sum(reward_arr) / len(reward_arr))\n",
        "env.close()\n",
        "show_video()"
      ],
      "execution_count": null,
      "outputs": [
        {
          "output_type": "stream",
          "name": "stderr",
          "text": [
            "100%|██████████| 200/200 [00:32<00:00,  6.06it/s]"
          ]
        },
        {
          "output_type": "stream",
          "name": "stdout",
          "text": [
            "average reward per episode : 483.605\n"
          ]
        },
        {
          "output_type": "stream",
          "name": "stderr",
          "text": [
            "\n"
          ]
        },
        {
          "output_type": "display_data",
          "data": {
            "text/plain": [
              "<IPython.core.display.HTML object>"
            ],
            "text/html": [
              "<video alt=\"test\" autoplay \n",
              "                loop controls style=\"height: 400px;\">\n",
              "                <source src=\"data:video/mp4;base64,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\" type=\"video/mp4\" />\n",
              "             </video>"
            ]
          },
          "metadata": {}
        }
      ]
    },
    {
      "cell_type": "code",
      "metadata": {
        "id": "VTAa6RAWTKZJ"
      },
      "source": [
        ""
      ],
      "execution_count": null,
      "outputs": []
    }
  ]
}